{
 "cells": [
  {
   "cell_type": "markdown",
   "id": "405b4293-9034-4bb9-a491-390d0d678238",
   "metadata": {},
   "source": [
    "# Méthode `find`"
   ]
  },
  {
   "cell_type": "code",
   "execution_count": 1,
   "id": "622ea27f-c855-4209-ab1b-327d9541b7ec",
   "metadata": {},
   "outputs": [
    {
     "data": {
      "text/plain": [
       "2"
      ]
     },
     "execution_count": 1,
     "metadata": {},
     "output_type": "execute_result"
    }
   ],
   "source": [
    "\"abcd\".find(\"c\")"
   ]
  },
  {
   "cell_type": "code",
   "execution_count": 2,
   "id": "3eaf0f99-17c0-4281-b377-cf3b1727a546",
   "metadata": {},
   "outputs": [
    {
     "data": {
      "text/plain": [
       "3"
      ]
     },
     "execution_count": 2,
     "metadata": {},
     "output_type": "execute_result"
    }
   ],
   "source": [
    "\"abcde\".find(\"de\")"
   ]
  },
  {
   "cell_type": "markdown",
   "id": "f81465ec-d660-4c42-80ba-05192d6bab57",
   "metadata": {},
   "source": [
    "# Arguments par défaut\n",
    "\n",
    "**Ils ne doivent jamais être mutables**"
   ]
  },
  {
   "cell_type": "code",
   "execution_count": 3,
   "id": "a65fe77f-3d6f-47e4-aee5-ef9c9e82e1d8",
   "metadata": {},
   "outputs": [],
   "source": [
    "def ajoute(liste: list[int]=[]):\n",
    "    liste.append(1)\n",
    "    return liste"
   ]
  },
  {
   "cell_type": "code",
   "execution_count": 4,
   "id": "d089ac1f-e81f-40a9-b93d-68ea2c1f9b61",
   "metadata": {},
   "outputs": [
    {
     "data": {
      "text/plain": [
       "[1]"
      ]
     },
     "execution_count": 4,
     "metadata": {},
     "output_type": "execute_result"
    }
   ],
   "source": [
    "ajoute()"
   ]
  },
  {
   "cell_type": "code",
   "execution_count": 5,
   "id": "82601b21-4174-410f-8492-758c84daf47d",
   "metadata": {},
   "outputs": [
    {
     "data": {
      "text/plain": [
       "[1, 1]"
      ]
     },
     "execution_count": 5,
     "metadata": {},
     "output_type": "execute_result"
    }
   ],
   "source": [
    "ajoute()"
   ]
  },
  {
   "cell_type": "code",
   "execution_count": 6,
   "id": "5d798933-fb52-4d86-a2a4-793a5dcd78b2",
   "metadata": {},
   "outputs": [
    {
     "data": {
      "text/plain": [
       "[1, 1, 1]"
      ]
     },
     "execution_count": 6,
     "metadata": {},
     "output_type": "execute_result"
    }
   ],
   "source": [
    "ajoute()"
   ]
  },
  {
   "cell_type": "markdown",
   "id": "e966b340-fa2d-4076-8e01-53d5ad7c115c",
   "metadata": {},
   "source": [
    "L'argument est partagé par tous les appels de la fonction."
   ]
  },
  {
   "cell_type": "code",
   "execution_count": null,
   "id": "66f9a877-8477-4a64-8909-a27024109dc4",
   "metadata": {},
   "outputs": [],
   "source": []
  }
 ],
 "metadata": {
  "kernelspec": {
   "display_name": "Python 3 (ipykernel)",
   "language": "python",
   "name": "python3"
  },
  "language_info": {
   "codemirror_mode": {
    "name": "ipython",
    "version": 3
   },
   "file_extension": ".py",
   "mimetype": "text/x-python",
   "name": "python",
   "nbconvert_exporter": "python",
   "pygments_lexer": "ipython3",
   "version": "3.9.7"
  }
 },
 "nbformat": 4,
 "nbformat_minor": 5
}

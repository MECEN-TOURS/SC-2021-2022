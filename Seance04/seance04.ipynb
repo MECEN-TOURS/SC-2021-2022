{
 "cells": [
  {
   "cell_type": "markdown",
   "id": "1edde0fe-e4c3-453a-b344-813cd0a0b028",
   "metadata": {},
   "source": [
    "# Objectif\n",
    "\n",
    "Coder un solveur de sudoku.\n",
    "\n",
    "On commencera par des 4x4 avant d'ajuster le code pour les 9x9 puis 16x16.\n",
    "\n",
    "On appliquera les mêmes techniques et principes que pour le problème de traversée de rivière."
   ]
  },
  {
   "cell_type": "markdown",
   "id": "5ad34b4d-b9f0-4bf3-9ecf-ab0666bbd53f",
   "metadata": {},
   "source": [
    "# Modélisation\n",
    "\n",
    "- On doit avoir une structure de donnée qui représente une grille partiellement remplie.\n",
    "- Une grille (même partiellement remplie) peut être invalide si une ligne/colonne ou sous carré a une répétition.\n",
    "- On a une transition entre deux grilles si la seconde a exactement une case remplie de plus.\n",
    "- On a donc un graphe.\n",
    "- On cherche à passer d'une grille de départ donnée à n'importe quelle grille valide sans case vide.\n"
   ]
  },
  {
   "cell_type": "code",
   "execution_count": null,
   "id": "5017e76a-6514-46b8-a56b-fcaede05b4d5",
   "metadata": {},
   "outputs": [],
   "source": []
  },
  {
   "cell_type": "code",
   "execution_count": null,
   "id": "bf13ad19-1431-4fb2-888b-116f1bd92870",
   "metadata": {},
   "outputs": [],
   "source": [
    "class Grille:\n",
    "    ...\n",
    "    \n",
    "def est_valide(grille: Grille) -> bool:\n",
    "    ...\n",
    "    \n",
    "def est_complete(grille: Grille) -> bool:\n",
    "    ...\n",
    "    \n",
    "def sont_reliees(depart: Grille, arrivee: Grille) -> bool:\n",
    "    ...\n",
    "    \n",
    "def calcule_solution(depart: Grille) -> Grille:\n",
    "    ..."
   ]
  }
 ],
 "metadata": {
  "kernelspec": {
   "display_name": "Python 3 (ipykernel)",
   "language": "python",
   "name": "python3"
  },
  "language_info": {
   "codemirror_mode": {
    "name": "ipython",
    "version": 3
   },
   "file_extension": ".py",
   "mimetype": "text/x-python",
   "name": "python",
   "nbconvert_exporter": "python",
   "pygments_lexer": "ipython3",
   "version": "3.9.7"
  }
 },
 "nbformat": 4,
 "nbformat_minor": 5
}

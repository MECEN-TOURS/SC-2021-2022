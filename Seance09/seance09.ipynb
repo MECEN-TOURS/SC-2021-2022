{
 "cells": [
  {
   "cell_type": "markdown",
   "id": "27d61be5-c251-47b8-9575-c790e1264ced",
   "metadata": {},
   "source": [
    "On va partir de l'exemple suivant que l'on décrit avec le format [`.dot`](https://fr.wikipedia.org/wiki/DOT_(langage))\n",
    "\n"
   ]
  },
  {
   "cell_type": "markdown",
   "id": "6bb62468-62f4-4cff-91bf-8c24e2d2f667",
   "metadata": {},
   "source": [
    "Sans les poids sur les arrêtes:\n",
    "```dot\n",
    "graph exemple {\n",
    "A -- B;\n",
    "A -- C;\n",
    "A -- D;\n",
    "B -- C;\n",
    "B -- D;\n",
    "B -- E;\n",
    "C -- D;\n",
    "D -- E;\n",
    "}\n",
    "```"
   ]
  },
  {
   "cell_type": "markdown",
   "id": "191ee151-419d-4d26-9fa0-8bb6bd72a867",
   "metadata": {},
   "source": [
    "Avec les poids sur les arrêtes:\n",
    "```dot\n",
    "graph exemple {\n",
    "A -- B [poids=2];\n",
    "A -- C [poids=1];\n",
    "A -- D [poids=3];\n",
    "B -- C [poids=1];\n",
    "B -- D [poids=1];\n",
    "B -- E [poids=4];\n",
    "C -- D [poids=1];\n",
    "D -- E [poids=1];\n",
    "}\n",
    "```"
   ]
  },
  {
   "cell_type": "markdown",
   "id": "474086a7-19fa-4130-9c69-4ec3c4c39733",
   "metadata": {},
   "source": [
    "# Objectifs\n",
    "\n",
    "Implémenter\n",
    "- une librairie permettant de déterminer les distances entre deux points et les chemins les plus courts.\n",
    "- une librairie permettant de faire l'aller retour entre un fichier .dot et une représentation python du même graphe."
   ]
  },
  {
   "cell_type": "code",
   "execution_count": 1,
   "id": "482ec987-95c0-4210-9060-4950f3a11aca",
   "metadata": {},
   "outputs": [],
   "source": [
    "i = iter([1, 2])"
   ]
  },
  {
   "cell_type": "code",
   "execution_count": 2,
   "id": "ac5561ea-cbad-40c0-a1ae-78538ae4c830",
   "metadata": {},
   "outputs": [
    {
     "data": {
      "text/plain": [
       "1"
      ]
     },
     "execution_count": 2,
     "metadata": {},
     "output_type": "execute_result"
    }
   ],
   "source": [
    "next(i)"
   ]
  },
  {
   "cell_type": "code",
   "execution_count": 3,
   "id": "e8a28e35-f5a3-4000-80b9-644338f0ef8b",
   "metadata": {},
   "outputs": [
    {
     "data": {
      "text/plain": [
       "2"
      ]
     },
     "execution_count": 3,
     "metadata": {},
     "output_type": "execute_result"
    }
   ],
   "source": [
    "next(i)"
   ]
  },
  {
   "cell_type": "code",
   "execution_count": 4,
   "id": "a3b53b56-08b8-4a26-bc6d-dca5477092fc",
   "metadata": {},
   "outputs": [
    {
     "ename": "StopIteration",
     "evalue": "",
     "output_type": "error",
     "traceback": [
      "\u001b[1;31m---------------------------------------------------------------------------\u001b[0m",
      "\u001b[1;31mStopIteration\u001b[0m                             Traceback (most recent call last)",
      "\u001b[1;32mC:\\Users\\PERROL~1\\AppData\\Local\\Temp/ipykernel_3248/1939748483.py\u001b[0m in \u001b[0;36m<module>\u001b[1;34m\u001b[0m\n\u001b[1;32m----> 1\u001b[1;33m \u001b[0mnext\u001b[0m\u001b[1;33m(\u001b[0m\u001b[0mi\u001b[0m\u001b[1;33m)\u001b[0m\u001b[1;33m\u001b[0m\u001b[1;33m\u001b[0m\u001b[0m\n\u001b[0m",
      "\u001b[1;31mStopIteration\u001b[0m: "
     ]
    }
   ],
   "source": [
    "next(i)"
   ]
  }
 ],
 "metadata": {
  "kernelspec": {
   "display_name": "Python 3 (ipykernel)",
   "language": "python",
   "name": "python3"
  },
  "language_info": {
   "codemirror_mode": {
    "name": "ipython",
    "version": 3
   },
   "file_extension": ".py",
   "mimetype": "text/x-python",
   "name": "python",
   "nbconvert_exporter": "python",
   "pygments_lexer": "ipython3",
   "version": "3.9.7"
  }
 },
 "nbformat": 4,
 "nbformat_minor": 5
}

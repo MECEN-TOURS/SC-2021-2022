{
 "cells": [
  {
   "cell_type": "markdown",
   "id": "3dad5ee7-5fbe-400a-9339-fb4aba96e4a0",
   "metadata": {},
   "source": [
    "# Définitions\n",
    "\n",
    "- Un graphe est la donnée de deux ensembles $(S,A)$ tels que $A \\subset S \\times S$ ($S$ pour les sommets, et $A$ pour les arrêtes).\n",
    "\n",
    "- En anglais les sommets sont les vertex/vertices ou node/nodes.\n",
    "et les arrêtes les edge/edges.\n",
    "\n",
    "- Un chemin dans un graphe $(S,A)$ est la donnée d'un entier $n$ et d'une famille d'arrêtes $((d_1,f_1),\\ldots,(d_n,f_n))\\in A^n$ telle que \n",
    "\n",
    "$$\n",
    "\\forall i \\in \\{1,...,n-1\\},\\quad f_i=d_{i+1}.\n",
    "$$\n",
    "\n",
    "- Alternativement on peut considérer un chemin comme la donnée de $n$ et de $(s_0,\\ldots, s_n)\\in S^{n+1}$ tels que\n",
    "\n",
    "$$\n",
    "\\forall i \\in \\{1,\\ldots,n\\},\\quad (s_{i-1},s_i)\\in A.\n",
    "$$\n",
    "\n",
    "**TODO.** inclure une figure avec le graphe triangulaire."
   ]
  },
  {
   "cell_type": "markdown",
   "id": "45f907a7-350c-43ae-852f-edc1b6061494",
   "metadata": {},
   "source": [
    "**REMARQUE.** Le problème de la séance 01 a été ramené à trouver un chemin dans le graphe menant de l'état où tous les personnages sont rive droite vers l'état où tous les personnages sont rive gauche."
   ]
  },
  {
   "cell_type": "markdown",
   "id": "a7a21cbe-01eb-434f-9a2e-41f7965da9d5",
   "metadata": {},
   "source": [
    "# Exercice.\n",
    "\n",
    "**TODO** inclure figure!\n",
    "\n",
    "1. Déterminer $S$ et $A$ correspondant au dessin.\n",
    "2. Trouver une méthode systématique permettant de trouver les chemins reliant $a$ à $g$."
   ]
  },
  {
   "cell_type": "markdown",
   "id": "2f4322c2-8b1d-49e1-aaf5-e331b84e0d3c",
   "metadata": {},
   "source": [
    "**Réponses.**\n",
    "\n",
    "1. \n",
    "\\begin{equation}\n",
    "\\begin{cases}\n",
    "S=\\{a,b,c,d,e,f,g\\},\\\\\n",
    "A=\\{(a,a), (a,b), (a,d), (b,c), (d,c),(d,e), (d,f), (e,a), (f,g)\\}\n",
    "\\end{cases}\n",
    "\\end{equation}"
   ]
  },
  {
   "cell_type": "markdown",
   "id": "f8a56ccd-b6fe-4374-90bd-f4b292cabfd4",
   "metadata": {},
   "source": [
    "2. On peut constater d'abord que s'il existe un chemin reliant $a$ à $g$ alors il en existe éventuellement plus court sans boucle.\n",
    "\n",
    "On peut alors déterminer récursivement le chemin de $a$ à $g$ en examinant \n",
    "- les chemins de $b$ à $g$ empruntant le graphe obtenu en enlevant toute référence à $a$.\n",
    "- les chemins de $d$ à $g$ empruntant le graphe obtenu en enlevant toute référence à $a$.\n",
    "\n",
    "On va alors réduire le problème de proche en proche jusqu'à ce que le point de départ devienne $g$ ou qu'il n'y ait plus d'arrêtes partant du point de départ."
   ]
  },
  {
   "cell_type": "markdown",
   "id": "dc4aae85-19e9-4a29-bb9f-f966705ff0b0",
   "metadata": {},
   "source": [
    "# Problème de traversée de Rivière"
   ]
  },
  {
   "cell_type": "code",
   "execution_count": 23,
   "id": "cd1999a1-2c10-4f3c-bf3f-29a4819c1960",
   "metadata": {},
   "outputs": [],
   "source": [
    "import lib"
   ]
  },
  {
   "cell_type": "code",
   "execution_count": 6,
   "id": "712892f4-378f-4ce4-ba38-b98b3d7fe7e2",
   "metadata": {},
   "outputs": [],
   "source": [
    "from lib import Etat, Arrete"
   ]
  },
  {
   "cell_type": "code",
   "execution_count": 2,
   "id": "751611e3-f959-46e8-9473-0435c719253f",
   "metadata": {},
   "outputs": [
    {
     "data": {
      "text/plain": [
       "['ARRETES',\n",
       " 'ARRIVEE',\n",
       " 'Arrete',\n",
       " 'DEPART',\n",
       " 'ETATS',\n",
       " 'Enum',\n",
       " 'Etat',\n",
       " 'Rive',\n",
       " 'SOMMETS',\n",
       " '__annotations__',\n",
       " '__builtins__',\n",
       " '__cached__',\n",
       " '__doc__',\n",
       " '__file__',\n",
       " '__loader__',\n",
       " '__name__',\n",
       " '__package__',\n",
       " '__spec__',\n",
       " 'dataclass',\n",
       " 'est_valide',\n",
       " 'sont_connectes']"
      ]
     },
     "execution_count": 2,
     "metadata": {},
     "output_type": "execute_result"
    }
   ],
   "source": [
    "dir(lib)"
   ]
  },
  {
   "cell_type": "code",
   "execution_count": 4,
   "id": "e36d5952-6b62-4b39-907d-0650331fae40",
   "metadata": {},
   "outputs": [],
   "source": [
    "class PasDeChemin(Exception):\n",
    "    pass"
   ]
  },
  {
   "cell_type": "code",
   "execution_count": 7,
   "id": "22245b4c-51aa-4288-88e2-a416700e5b16",
   "metadata": {},
   "outputs": [],
   "source": [
    "def calcule_voisins(depart: Etat, arretes: list[Arrete]) -> list[Etat]:\n",
    "    return [e2 for (e1, e2) in arretes if e1 == depart and e2 != depart]"
   ]
  },
  {
   "cell_type": "code",
   "execution_count": 8,
   "id": "f6e6c0ad-aff0-4aee-af09-ef777d3be291",
   "metadata": {},
   "outputs": [],
   "source": [
    "def elague_sommets(a_enlever: Etat, sommets: list[Etat]) -> list[Etat]:\n",
    "    return [etat for etat in sommets if a_enlever != etat]"
   ]
  },
  {
   "cell_type": "code",
   "execution_count": 9,
   "id": "a29b00b2-5f31-4de7-93fe-008ba939ca77",
   "metadata": {},
   "outputs": [],
   "source": [
    "def elague_arretes(a_enlever: Etat, arretes: list[Arrete]) -> list[Arrete]:\n",
    "    return [\n",
    "        (e1, e2) \n",
    "        for (e1, e2) in arretes \n",
    "        if e1 != a_enlever and e2 != a_enlever\n",
    "    ]"
   ]
  },
  {
   "cell_type": "code",
   "execution_count": 10,
   "id": "1fd40b9c-3227-42da-b69a-ce3c50b5a887",
   "metadata": {},
   "outputs": [],
   "source": [
    "def calcule_chemin(\n",
    "    depart: Etat, \n",
    "    arrivee: Etat, \n",
    "    sommets: list[Etat], \n",
    "    arretes: list[Arrete]\n",
    ") -> list[Etat]:\n",
    "    if depart == arrivee:\n",
    "        return [depart]\n",
    "    sommets_elagues = elague_sommets(a_enlever=depart, sommets=sommets)\n",
    "    arretes_elaguees = elague_arretes(a_enlever=depart, arretes=arretes)\n",
    "    for voisin in calcule_voisins(depart, arretes):\n",
    "        try:\n",
    "            resultat_intermediaire = calcule_chemin(\n",
    "                depart=voisin,\n",
    "                arrivee=arrivee,\n",
    "                sommets=sommets_elagues,\n",
    "                arretes=arretes_elaguees\n",
    "            )\n",
    "        except PasDeChemin:\n",
    "            pass\n",
    "        else:\n",
    "            return [depart] + resultat_intermediaire\n",
    "            \n",
    "    raise PasDeChemin"
   ]
  },
  {
   "cell_type": "code",
   "execution_count": 11,
   "id": "34ae8d81-bec3-429b-a5b6-072a74a72695",
   "metadata": {},
   "outputs": [
    {
     "data": {
      "text/plain": [
       "[Etat(berger=<Rive.DROITE: 'droite'>, loup=<Rive.DROITE: 'droite'>, mouton=<Rive.DROITE: 'droite'>, chou=<Rive.DROITE: 'droite'>),\n",
       " Etat(berger=<Rive.GAUCHE: 'gauche'>, loup=<Rive.DROITE: 'droite'>, mouton=<Rive.GAUCHE: 'gauche'>, chou=<Rive.DROITE: 'droite'>),\n",
       " Etat(berger=<Rive.DROITE: 'droite'>, loup=<Rive.DROITE: 'droite'>, mouton=<Rive.GAUCHE: 'gauche'>, chou=<Rive.DROITE: 'droite'>),\n",
       " Etat(berger=<Rive.GAUCHE: 'gauche'>, loup=<Rive.GAUCHE: 'gauche'>, mouton=<Rive.GAUCHE: 'gauche'>, chou=<Rive.DROITE: 'droite'>),\n",
       " Etat(berger=<Rive.DROITE: 'droite'>, loup=<Rive.GAUCHE: 'gauche'>, mouton=<Rive.DROITE: 'droite'>, chou=<Rive.DROITE: 'droite'>),\n",
       " Etat(berger=<Rive.GAUCHE: 'gauche'>, loup=<Rive.GAUCHE: 'gauche'>, mouton=<Rive.DROITE: 'droite'>, chou=<Rive.GAUCHE: 'gauche'>),\n",
       " Etat(berger=<Rive.DROITE: 'droite'>, loup=<Rive.GAUCHE: 'gauche'>, mouton=<Rive.DROITE: 'droite'>, chou=<Rive.GAUCHE: 'gauche'>),\n",
       " Etat(berger=<Rive.GAUCHE: 'gauche'>, loup=<Rive.GAUCHE: 'gauche'>, mouton=<Rive.GAUCHE: 'gauche'>, chou=<Rive.GAUCHE: 'gauche'>)]"
      ]
     },
     "execution_count": 11,
     "metadata": {},
     "output_type": "execute_result"
    }
   ],
   "source": [
    "calcule_chemin(\n",
    "    depart=lib.DEPART,\n",
    "    arrivee=lib.ARRIVEE,\n",
    "    sommets=lib.SOMMETS,\n",
    "    arretes=lib.ARRETES\n",
    ")"
   ]
  },
  {
   "cell_type": "markdown",
   "id": "4872bcc1-ae61-4ca8-ab07-f3db6719ed6b",
   "metadata": {},
   "source": [
    "# Exercice.\n",
    "\n",
    "Coder une fonction `visualise_chemin` prenant une liste de sommets, vérifiant qu'il s'agit bien d'un chemin et renvoyant une chaine de caractères décrivant la liste des traversées à effectuer.\n",
    "Utiliser là pour vérifier le résultat précédent."
   ]
  },
  {
   "cell_type": "code",
   "execution_count": null,
   "id": "24de792e-d9cb-40f4-8b78-8fcb5641fbc8",
   "metadata": {},
   "outputs": [],
   "source": [
    "def genere_message(depart: Etat, arrivee: Etat) -> str:\n",
    "    if depart.loup != arrivee.loup:\n",
    "        return f\"Berger, Loup  : {depart.loup} -> {arrivee.loup}\"\n",
    "    if depart.mouton != arrivee.mouton:\n",
    "        return f\"Berger, Mouton: {depart.mouton} -> {arrivee.mouton}\"\n",
    "    if depart.chou != arrivee.chou:\n",
    "        return f\"Berger, Chou  : {depart.chou} -> {arrivee.chou}\"\n",
    "    return     f\"Berger        : {depart.berger} -> {arrivee.berger}\""
   ]
  },
  {
   "cell_type": "code",
   "execution_count": null,
   "id": "8d0b2026-373c-440b-8ead-35a829e15937",
   "metadata": {},
   "outputs": [],
   "source": [
    "def visualise_chemin(etats: list[Etat]) -> str:\n",
    "    resultat = list()\n",
    "    for e1, e2 in zip(etats[:-1], etats[1:]):\n",
    "        if not lib.sont_connectes(e1, e2):\n",
    "            return \"Ce n'est pas un chemin.\"\n",
    "        resultat.append(genere_message(depart=e1, arrivee=e2))\n",
    "    return \"\\n\".join(resultat)\n",
    "            \n",
    "        "
   ]
  },
  {
   "cell_type": "code",
   "execution_count": 22,
   "id": "35ff4d0d-3551-4a65-807a-f774173a9468",
   "metadata": {},
   "outputs": [
    {
     "name": "stdout",
     "output_type": "stream",
     "text": [
      "Berger, Mouton: Rive.DROITE -> Rive.GAUCHE\n",
      "Berger        : Rive.GAUCHE -> Rive.DROITE\n",
      "Berger, Loup  : Rive.DROITE -> Rive.GAUCHE\n",
      "Berger, Mouton: Rive.GAUCHE -> Rive.DROITE\n",
      "Berger, Chou  : Rive.DROITE -> Rive.GAUCHE\n",
      "Berger        : Rive.GAUCHE -> Rive.DROITE\n",
      "Berger, Mouton: Rive.DROITE -> Rive.GAUCHE\n"
     ]
    }
   ],
   "source": [
    "print(\n",
    "    visualise_chemin(\n",
    "        calcule_chemin(\n",
    "            depart=lib.DEPART,\n",
    "            arrivee=lib.ARRIVEE,\n",
    "            sommets=lib.SOMMETS,\n",
    "            arretes=lib.ARRETES\n",
    "        )\n",
    "    )\n",
    ")"
   ]
  },
  {
   "cell_type": "code",
   "execution_count": 24,
   "id": "910ec5fa-ccde-46ad-8bcb-999a504a5685",
   "metadata": {},
   "outputs": [
    {
     "ename": "AttributeError",
     "evalue": "module 'lib' has no attribute 'visualise_chemin'",
     "output_type": "error",
     "traceback": [
      "\u001b[0;31m---------------------------------------------------------------------------\u001b[0m",
      "\u001b[0;31mAttributeError\u001b[0m                            Traceback (most recent call last)",
      "\u001b[0;32m/tmp/ipykernel_7395/3866012533.py\u001b[0m in \u001b[0;36m<module>\u001b[0;34m\u001b[0m\n\u001b[1;32m      1\u001b[0m print(\n\u001b[0;32m----> 2\u001b[0;31m     lib.visualise_chemin(\n\u001b[0m\u001b[1;32m      3\u001b[0m         lib.calcule_chemin(\n\u001b[1;32m      4\u001b[0m             \u001b[0mdepart\u001b[0m\u001b[0;34m=\u001b[0m\u001b[0mlib\u001b[0m\u001b[0;34m.\u001b[0m\u001b[0mDEPART\u001b[0m\u001b[0;34m,\u001b[0m\u001b[0;34m\u001b[0m\u001b[0;34m\u001b[0m\u001b[0m\n\u001b[1;32m      5\u001b[0m             \u001b[0marrivee\u001b[0m\u001b[0;34m=\u001b[0m\u001b[0mlib\u001b[0m\u001b[0;34m.\u001b[0m\u001b[0mARRIVEE\u001b[0m\u001b[0;34m,\u001b[0m\u001b[0;34m\u001b[0m\u001b[0;34m\u001b[0m\u001b[0m\n",
      "\u001b[0;31mAttributeError\u001b[0m: module 'lib' has no attribute 'visualise_chemin'"
     ]
    }
   ],
   "source": [
    "print(\n",
    "    lib.visualise_chemin(\n",
    "        lib.calcule_chemin(\n",
    "            depart=lib.DEPART,\n",
    "            arrivee=lib.ARRIVEE,\n",
    "            sommets=lib.SOMMETS,\n",
    "            arretes=lib.ARRETES\n",
    "        )\n",
    "    )\n",
    ")"
   ]
  },
  {
   "cell_type": "code",
   "execution_count": 25,
   "id": "2ce3351d-8262-4783-b064-ac18f793b399",
   "metadata": {},
   "outputs": [],
   "source": [
    "from importlib import reload"
   ]
  },
  {
   "cell_type": "code",
   "execution_count": 37,
   "id": "f7230f0f-cfe4-49c2-b686-57bfed7cf5ad",
   "metadata": {},
   "outputs": [],
   "source": [
    "lib = reload(lib)"
   ]
  },
  {
   "cell_type": "code",
   "execution_count": 38,
   "id": "b7c2af7f-a510-4da4-8bb7-c812c6448619",
   "metadata": {},
   "outputs": [
    {
     "name": "stdout",
     "output_type": "stream",
     "text": [
      "Berger, Mouton: Rive.DROITE -> Rive.GAUCHE\n",
      "Berger        : Rive.GAUCHE -> Rive.DROITE\n",
      "Berger, Loup  : Rive.DROITE -> Rive.GAUCHE\n",
      "Berger, Mouton: Rive.GAUCHE -> Rive.DROITE\n",
      "Berger, Chou  : Rive.DROITE -> Rive.GAUCHE\n",
      "Berger        : Rive.GAUCHE -> Rive.DROITE\n",
      "Berger, Mouton: Rive.DROITE -> Rive.GAUCHE\n"
     ]
    }
   ],
   "source": [
    "print(\n",
    "    lib.visualise_chemin(\n",
    "        calcule_chemin(\n",
    "            depart=lib.DEPART,\n",
    "            arrivee=lib.ARRIVEE,\n",
    "            sommets=lib.SOMMETS,\n",
    "            arretes=lib.ARRETES\n",
    "        )\n",
    "    )\n",
    ")"
   ]
  },
  {
   "cell_type": "markdown",
   "id": "d8dad8e1-0fa5-45de-8d13-34789bc7cbf3",
   "metadata": {},
   "source": [
    "# Exercice\n",
    "\n",
    "Déporter le code correspondant aux graphes généraux dans une librairie spécifique."
   ]
  },
  {
   "cell_type": "code",
   "execution_count": 47,
   "id": "763d2775-5be5-447d-aab5-155daba32574",
   "metadata": {},
   "outputs": [],
   "source": [
    "import lib\n",
    "import graphe"
   ]
  },
  {
   "cell_type": "code",
   "execution_count": 43,
   "id": "5ea4d9f2-5fe2-45ab-8438-52d1a19f353c",
   "metadata": {},
   "outputs": [],
   "source": [
    "solution = graphe.calcule_chemin(\n",
    "    depart=lib.DEPART,\n",
    "    arrivee=lib.ARRIVEE,\n",
    "    sommets=lib.SOMMETS,\n",
    "    arretes=lib.ARRETES\n",
    ")"
   ]
  },
  {
   "cell_type": "code",
   "execution_count": 44,
   "id": "7e9bc69f-2f54-417e-abfd-e5768c33dce2",
   "metadata": {},
   "outputs": [
    {
     "name": "stdout",
     "output_type": "stream",
     "text": [
      "[Etat(berger=<Rive.DROITE: 'droite'>, loup=<Rive.DROITE: 'droite'>, mouton=<Rive.DROITE: 'droite'>, chou=<Rive.DROITE: 'droite'>), Etat(berger=<Rive.GAUCHE: 'gauche'>, loup=<Rive.DROITE: 'droite'>, mouton=<Rive.GAUCHE: 'gauche'>, chou=<Rive.DROITE: 'droite'>), Etat(berger=<Rive.DROITE: 'droite'>, loup=<Rive.DROITE: 'droite'>, mouton=<Rive.GAUCHE: 'gauche'>, chou=<Rive.DROITE: 'droite'>), Etat(berger=<Rive.GAUCHE: 'gauche'>, loup=<Rive.GAUCHE: 'gauche'>, mouton=<Rive.GAUCHE: 'gauche'>, chou=<Rive.DROITE: 'droite'>), Etat(berger=<Rive.DROITE: 'droite'>, loup=<Rive.GAUCHE: 'gauche'>, mouton=<Rive.DROITE: 'droite'>, chou=<Rive.DROITE: 'droite'>), Etat(berger=<Rive.GAUCHE: 'gauche'>, loup=<Rive.GAUCHE: 'gauche'>, mouton=<Rive.DROITE: 'droite'>, chou=<Rive.GAUCHE: 'gauche'>), Etat(berger=<Rive.DROITE: 'droite'>, loup=<Rive.GAUCHE: 'gauche'>, mouton=<Rive.DROITE: 'droite'>, chou=<Rive.GAUCHE: 'gauche'>), Etat(berger=<Rive.GAUCHE: 'gauche'>, loup=<Rive.GAUCHE: 'gauche'>, mouton=<Rive.GAUCHE: 'gauche'>, chou=<Rive.GAUCHE: 'gauche'>)]\n"
     ]
    }
   ],
   "source": [
    "print(solution)"
   ]
  },
  {
   "cell_type": "code",
   "execution_count": 46,
   "id": "930e8c13-40bb-462e-93ee-d11d09997f4a",
   "metadata": {},
   "outputs": [
    {
     "name": "stdout",
     "output_type": "stream",
     "text": [
      "Berger, Mouton: Rive.DROITE -> Rive.GAUCHE\n",
      "Berger        : Rive.GAUCHE -> Rive.DROITE\n",
      "Berger, Loup  : Rive.DROITE -> Rive.GAUCHE\n",
      "Berger, Mouton: Rive.GAUCHE -> Rive.DROITE\n",
      "Berger, Chou  : Rive.DROITE -> Rive.GAUCHE\n",
      "Berger        : Rive.GAUCHE -> Rive.DROITE\n",
      "Berger, Mouton: Rive.DROITE -> Rive.GAUCHE\n"
     ]
    }
   ],
   "source": [
    "print(lib.visualise_chemin(etats=solution))"
   ]
  },
  {
   "cell_type": "markdown",
   "id": "60e074c8-dfa6-4e59-8f4b-a8941e3df49a",
   "metadata": {},
   "source": [
    "# Exercice\n",
    "\n",
    "- Rajouter de la documentation aux fonctions des librairies.\n",
    "- Rajouter des tests automatiques aux fonctions des librairies pour garantir leur fonctionnement."
   ]
  },
  {
   "cell_type": "code",
   "execution_count": 48,
   "id": "53a3432b-c970-4f29-ad8d-5280bd7285df",
   "metadata": {},
   "outputs": [],
   "source": [
    "lib = reload(lib)"
   ]
  }
 ],
 "metadata": {
  "kernelspec": {
   "display_name": "Python 3 (ipykernel)",
   "language": "python",
   "name": "python3"
  },
  "language_info": {
   "codemirror_mode": {
    "name": "ipython",
    "version": 3
   },
   "file_extension": ".py",
   "mimetype": "text/x-python",
   "name": "python",
   "nbconvert_exporter": "python",
   "pygments_lexer": "ipython3",
   "version": "3.9.2"
  }
 },
 "nbformat": 4,
 "nbformat_minor": 5
}

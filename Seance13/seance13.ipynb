{
 "cells": [
  {
   "cell_type": "markdown",
   "id": "f48afdfd-d89e-45f2-99ff-dba0d34f6ff4",
   "metadata": {},
   "source": [
    "# Problèmes d'ordonnancement"
   ]
  },
  {
   "cell_type": "markdown",
   "id": "99a05c06-9d78-4146-b0cf-6a59ee1d4e0f",
   "metadata": {},
   "source": [
    "| Tâche | Prérequis |\n",
    "|-------|-----------|\n",
    "|   A   |  B, C     |\n",
    "|   B   |  E        | \n",
    "|   C   |  B        |  \n",
    "|   D   |  A, E     |\n",
    "|   E   |  \\        |\n",
    "|   F   |  D, C     |\n",
    "|   G   |  I, J, A  |\n",
    "|   H   |  G, J     |\n",
    "|   I   |  C        |\n",
    "|   J   |  A        |"
   ]
  },
  {
   "cell_type": "markdown",
   "id": "3d5d92a3-5969-40ab-857a-c7c4f0e03ae5",
   "metadata": {},
   "source": [
    "Comment organiser les tâches de façon à ce que les prérequis soient satisfait avant d'attaquer une tâche."
   ]
  },
  {
   "cell_type": "markdown",
   "id": "5337efa2-0f6e-485b-8712-2f15c9d629c4",
   "metadata": {},
   "source": [
    "On peut manuellement trouver l'ordre E, B, C, A, D, F, I, J, G, H"
   ]
  },
  {
   "cell_type": "markdown",
   "id": "ee26c404-aa75-4e73-821d-834ad72952d5",
   "metadata": {},
   "source": [
    "# Apparition de graphes"
   ]
  },
  {
   "cell_type": "markdown",
   "id": "079f07ea-e751-4f4f-8063-8a0d53d5798f",
   "metadata": {},
   "source": [
    "On obtient un graphe orienté dont les sommets sont les tâches, et une arrête représente le fait que le départ est un prérequis pour l'arrivée."
   ]
  },
  {
   "cell_type": "markdown",
   "id": "607cb0d5-36a3-4ddb-a47b-a939a68ea9a5",
   "metadata": {},
   "source": [
    "On a un autre graphe correspondant à l'ordre d'exécution \n",
    "E -> B -> C -> D -> F -> I -> J -> G -> H\n",
    "\n",
    "On peut constater que les arrêtes du graphe précédent vont toujours vers un sommet ultérieur dans le graphe linéaire.\n",
    "\n",
    "On dit que le deuxième graphe est un tri topologique du premier."
   ]
  },
  {
   "cell_type": "markdown",
   "id": "b0f07756-98d1-4cae-8048-96f8bd2a7953",
   "metadata": {},
   "source": [
    "Le fait de pouvoir ordonner les tâches est donc équivalent à posséder un tri topologique et est équivalent à ne pas avoir de boucle dirigée.\n",
    "\n",
    "On dit que le graphe est un DAG (Directed Acyclic Graph)."
   ]
  },
  {
   "cell_type": "markdown",
   "id": "9df8210f-c051-4a8b-a085-e3e611e64500",
   "metadata": {},
   "source": [
    "**ATTENTION** le tri topologique n'est pas forcément unique.\n",
    "\n",
    "Dans le cas précédent l'ordre E -> B -> C -> I -> A -> J -> G -> D -> F convient aussi.\n"
   ]
  },
  {
   "cell_type": "markdown",
   "id": "285a2454-7e8b-487f-b7c0-81a14d50f4bf",
   "metadata": {},
   "source": [
    "# Algorithme\n",
    "\n",
    "On va à chaque étape sélectionner une tâche sans prérequis puis l'effectuer c'est à dire l'enlever de tous les prérequis, et on recommence jusqu'à ce que ce ne soit plus possible.\n",
    "\n",
    "S'il reste des tâches à effectuer le problème n'est pas soluble."
   ]
  },
  {
   "cell_type": "markdown",
   "id": "98f68539-da9f-4bff-b009-1538f674ca74",
   "metadata": {},
   "source": [
    "# Exercice\n",
    "\n",
    "- Coder l'algorithme sur un dictionnaire représentant les tâches et leurs prérequis.\n",
    "- Exfiltrer la création de nouveau dans une fonction séparée et tester la.\n",
    "- Ajouter une fonction renvoyant un itérateur de tous les ordres possibles."
   ]
  },
  {
   "cell_type": "code",
   "execution_count": 1,
   "id": "709805e4-4c0e-4e0c-a7df-4984db5dbf02",
   "metadata": {},
   "outputs": [],
   "source": [
    "donnees = {\n",
    "        \"A\": [\"B\", \"C\"], \n",
    "        \"B\": [\"E\"],\n",
    "        \"C\": [\"B\"],\n",
    "        \"D\": [\"A\", \"E\"],\n",
    "        \"E\": [],\n",
    "        \"F\": [\"C\", \"D\"],\n",
    "        \"G\": [\"A\", \"I\", \"J\"],\n",
    "        \"H\": [\"G\", \"J\"],\n",
    "        \"I\": [\"C\"],\n",
    "        \"J\": [\"A\"],\n",
    "    }"
   ]
  },
  {
   "cell_type": "code",
   "execution_count": 6,
   "id": "d9938e3c-ece0-4ada-aa3b-de62e729dce0",
   "metadata": {},
   "outputs": [],
   "source": [
    "from importlib import reload"
   ]
  },
  {
   "cell_type": "code",
   "execution_count": 7,
   "id": "8a12f75d-8eff-49b3-9877-0f121138f86d",
   "metadata": {},
   "outputs": [],
   "source": [
    "import ordonnancement"
   ]
  },
  {
   "cell_type": "code",
   "execution_count": 19,
   "id": "48882b9f-5629-4a71-98dc-d562bbce94d8",
   "metadata": {},
   "outputs": [
    {
     "data": {
      "text/plain": [
       "<module 'ordonnancement' from 'C:\\\\Users\\\\perrollaz\\\\Documents\\\\seance13\\\\ordonnancement.py'>"
      ]
     },
     "execution_count": 19,
     "metadata": {},
     "output_type": "execute_result"
    }
   ],
   "source": [
    "reload(ordonnancement)"
   ]
  },
  {
   "cell_type": "code",
   "execution_count": 11,
   "id": "5e020c69-d03a-4f0d-b28d-51efaec1292b",
   "metadata": {},
   "outputs": [
    {
     "name": "stdout",
     "output_type": "stream",
     "text": [
      "['E', 'B', 'C', 'A', 'D', 'F', 'I', 'J', 'G', 'H']\n",
      "['E', 'B', 'C', 'A', 'D', 'F', 'J', 'I', 'G', 'H']\n",
      "['E', 'B', 'C', 'A', 'D', 'I', 'F', 'J', 'G', 'H']\n",
      "['E', 'B', 'C', 'A', 'D', 'I', 'J', 'F', 'G', 'H']\n",
      "['E', 'B', 'C', 'A', 'D', 'I', 'J', 'G', 'F', 'H']\n",
      "['E', 'B', 'C', 'A', 'D', 'I', 'J', 'G', 'H', 'F']\n",
      "['E', 'B', 'C', 'A', 'D', 'J', 'F', 'I', 'G', 'H']\n",
      "['E', 'B', 'C', 'A', 'D', 'J', 'I', 'F', 'G', 'H']\n",
      "['E', 'B', 'C', 'A', 'D', 'J', 'I', 'G', 'F', 'H']\n",
      "['E', 'B', 'C', 'A', 'D', 'J', 'I', 'G', 'H', 'F']\n",
      "['E', 'B', 'C', 'A', 'I', 'D', 'F', 'J', 'G', 'H']\n",
      "['E', 'B', 'C', 'A', 'I', 'D', 'J', 'F', 'G', 'H']\n",
      "['E', 'B', 'C', 'A', 'I', 'D', 'J', 'G', 'F', 'H']\n",
      "['E', 'B', 'C', 'A', 'I', 'D', 'J', 'G', 'H', 'F']\n",
      "['E', 'B', 'C', 'A', 'I', 'J', 'D', 'F', 'G', 'H']\n",
      "['E', 'B', 'C', 'A', 'I', 'J', 'D', 'G', 'F', 'H']\n",
      "['E', 'B', 'C', 'A', 'I', 'J', 'D', 'G', 'H', 'F']\n",
      "['E', 'B', 'C', 'A', 'I', 'J', 'G', 'D', 'F', 'H']\n",
      "['E', 'B', 'C', 'A', 'I', 'J', 'G', 'D', 'H', 'F']\n",
      "['E', 'B', 'C', 'A', 'I', 'J', 'G', 'H', 'D', 'F']\n",
      "['E', 'B', 'C', 'A', 'J', 'D', 'F', 'I', 'G', 'H']\n",
      "['E', 'B', 'C', 'A', 'J', 'D', 'I', 'F', 'G', 'H']\n",
      "['E', 'B', 'C', 'A', 'J', 'D', 'I', 'G', 'F', 'H']\n",
      "['E', 'B', 'C', 'A', 'J', 'D', 'I', 'G', 'H', 'F']\n",
      "['E', 'B', 'C', 'A', 'J', 'I', 'D', 'F', 'G', 'H']\n",
      "['E', 'B', 'C', 'A', 'J', 'I', 'D', 'G', 'F', 'H']\n",
      "['E', 'B', 'C', 'A', 'J', 'I', 'D', 'G', 'H', 'F']\n",
      "['E', 'B', 'C', 'A', 'J', 'I', 'G', 'D', 'F', 'H']\n",
      "['E', 'B', 'C', 'A', 'J', 'I', 'G', 'D', 'H', 'F']\n",
      "['E', 'B', 'C', 'A', 'J', 'I', 'G', 'H', 'D', 'F']\n",
      "['E', 'B', 'C', 'I', 'A', 'D', 'F', 'J', 'G', 'H']\n",
      "['E', 'B', 'C', 'I', 'A', 'D', 'J', 'F', 'G', 'H']\n",
      "['E', 'B', 'C', 'I', 'A', 'D', 'J', 'G', 'F', 'H']\n",
      "['E', 'B', 'C', 'I', 'A', 'D', 'J', 'G', 'H', 'F']\n",
      "['E', 'B', 'C', 'I', 'A', 'J', 'D', 'F', 'G', 'H']\n",
      "['E', 'B', 'C', 'I', 'A', 'J', 'D', 'G', 'F', 'H']\n",
      "['E', 'B', 'C', 'I', 'A', 'J', 'D', 'G', 'H', 'F']\n",
      "['E', 'B', 'C', 'I', 'A', 'J', 'G', 'D', 'F', 'H']\n",
      "['E', 'B', 'C', 'I', 'A', 'J', 'G', 'D', 'H', 'F']\n",
      "['E', 'B', 'C', 'I', 'A', 'J', 'G', 'H', 'D', 'F']\n"
     ]
    }
   ],
   "source": [
    "for ordre in ordonnancement.genere_ordres(donnees):\n",
    "    print(ordre)"
   ]
  },
  {
   "cell_type": "markdown",
   "id": "3c85ed1c-5f14-42af-bc42-6f5a2a9ce00d",
   "metadata": {},
   "source": [
    "# Variante\n",
    "\n",
    "On a maintenant des durées pour les tâches et on peut effectuer des tâches en parallèles.\n",
    "\n",
    "| Tâche | Prérequis | Durée |\n",
    "|-------|-----------|-------|\n",
    "|   A   |  B, C     | 1     |\n",
    "|   B   |  E        | 2     |\n",
    "|   C   |  B        | 3     |\n",
    "|   D   |  A, E     | 2     |\n",
    "|   E   |  \\        | 3     |\n",
    "|   F   |  D, C     | 2     |\n",
    "|   G   |  I, J, A  | 1     |\n",
    "|   H   |  G, J     | 2     |\n",
    "|   I   |  C        | 2     |\n",
    "|   J   |  A        | 4     |"
   ]
  },
  {
   "cell_type": "markdown",
   "id": "dbed95d2-0ee3-48d6-bf93-3a27eff6aeb1",
   "metadata": {},
   "source": [
    "Le problème consiste à affecter des instants de démarrage à chaque tâche pour que\n",
    "- les temps de démarrage de chaque tâche soient supérieurs aux temps de fin de ses prérequis\n",
    "- le temps de fin global est le plus petit possible."
   ]
  },
  {
   "cell_type": "markdown",
   "id": "22568780-5792-496b-ae98-c440a32cec55",
   "metadata": {},
   "source": [
    "L'idée est de choisir un certain ordre avec ce qui précède puis de choisir comme temps de départ d'une tâche le max des temps de fin des prérequis."
   ]
  },
  {
   "cell_type": "markdown",
   "id": "98a4da82-e66e-4a03-95c7-e7cfa32c45be",
   "metadata": {},
   "source": [
    "Dans le cas qui précède on aboutit par exemple à\n",
    "\n",
    "| Tâche | Début | Fin |\n",
    "|-------|-------|-----|\n",
    "|  E    |  0    |  3  |\n",
    "|B|3|5|\n",
    "|C|5|7|\n",
    "|A|7|8|\n",
    "|D|8|10|\n",
    "|F|10|12|\n",
    "|I|7|9|\n",
    "|J|8|12|\n",
    "|G|12|13|\n",
    "|H|13|15|\n"
   ]
  },
  {
   "cell_type": "markdown",
   "id": "b148eff4-93f5-4de7-a390-a27f4548f724",
   "metadata": {},
   "source": [
    "# Exercice\n",
    "\n",
    "Utiliser `rich` pour faire des fonctions permettant d'afficher\n",
    "- les Cahiers des charges\n",
    "- l'emploi du temps."
   ]
  },
  {
   "cell_type": "code",
   "execution_count": 12,
   "id": "a93b6fbb-b804-4011-8e1a-ce44dc2c2b5a",
   "metadata": {},
   "outputs": [],
   "source": [
    "from rich import print"
   ]
  },
  {
   "cell_type": "code",
   "execution_count": 13,
   "id": "d6bb9ac1-e185-4896-a746-ae1c74bf35a0",
   "metadata": {},
   "outputs": [],
   "source": [
    "from rich.table import Table"
   ]
  },
  {
   "cell_type": "code",
   "execution_count": 14,
   "id": "20188765-07b6-45f7-97ff-d4c73b0a1276",
   "metadata": {},
   "outputs": [],
   "source": [
    "table = Table(\"Tache\", \"Prerequis\", \"Durée\")\n"
   ]
  },
  {
   "cell_type": "code",
   "execution_count": 15,
   "id": "158bb0c0-3a93-494f-9511-22b8eb1f8d75",
   "metadata": {},
   "outputs": [],
   "source": [
    "table.add_row(\"A\", \"B, C\", \"1\")"
   ]
  },
  {
   "cell_type": "code",
   "execution_count": 16,
   "id": "24d35108-2215-473f-809b-9d2abc3164a8",
   "metadata": {},
   "outputs": [
    {
     "data": {
      "text/html": [
       "<pre style=\"white-space:pre;overflow-x:auto;line-height:normal;font-family:Menlo,'DejaVu Sans Mono',consolas,'Courier New',monospace\">┏━━━━━━━┳━━━━━━━━━━━┳━━━━━━━┓\n",
       "┃<span style=\"font-weight: bold\"> Tache </span>┃<span style=\"font-weight: bold\"> Prerequis </span>┃<span style=\"font-weight: bold\"> Durée </span>┃\n",
       "┡━━━━━━━╇━━━━━━━━━━━╇━━━━━━━┩\n",
       "│ A     │ B, C      │ 1     │\n",
       "└───────┴───────────┴───────┘\n",
       "</pre>\n"
      ],
      "text/plain": [
       "┏━━━━━━━┳━━━━━━━━━━━┳━━━━━━━┓\n",
       "┃\u001b[1m \u001b[0m\u001b[1mTache\u001b[0m\u001b[1m \u001b[0m┃\u001b[1m \u001b[0m\u001b[1mPrerequis\u001b[0m\u001b[1m \u001b[0m┃\u001b[1m \u001b[0m\u001b[1mDurée\u001b[0m\u001b[1m \u001b[0m┃\n",
       "┡━━━━━━━╇━━━━━━━━━━━╇━━━━━━━┩\n",
       "│ A     │ B, C      │ 1     │\n",
       "└───────┴───────────┴───────┘\n"
      ]
     },
     "metadata": {},
     "output_type": "display_data"
    }
   ],
   "source": [
    "print(table)"
   ]
  },
  {
   "cell_type": "code",
   "execution_count": 20,
   "id": "8d5cbbf3-a6ac-4953-8217-824be261d92b",
   "metadata": {},
   "outputs": [],
   "source": [
    "donnees = {\n",
    "        \"A\": ([\"B\", \"C\"], 1), \n",
    "        \"B\": ([\"E\"], 2),\n",
    "        \"C\": ([\"B\"], 3),\n",
    "        \"D\": ([\"A\", \"E\"], 2),\n",
    "        \"E\": ([], 3),\n",
    "        \"F\": ([\"C\", \"D\"], 2),\n",
    "        \"G\": ([\"A\", \"I\", \"J\"], 1),\n",
    "        \"H\": ([\"G\", \"J\"], 2),\n",
    "        \"I\": ([\"C\"], 2),\n",
    "        \"J\": ([\"A\"], 4),\n",
    "    }"
   ]
  },
  {
   "cell_type": "code",
   "execution_count": 24,
   "id": "1fc5d37f-4c4c-4dab-b900-2286fc16bd52",
   "metadata": {},
   "outputs": [
    {
     "data": {
      "text/plain": [
       "<module 'ordonnancement' from 'C:\\\\Users\\\\perrollaz\\\\Documents\\\\seance13\\\\ordonnancement.py'>"
      ]
     },
     "execution_count": 24,
     "metadata": {},
     "output_type": "execute_result"
    }
   ],
   "source": [
    "reload(ordonnancement)"
   ]
  },
  {
   "cell_type": "code",
   "execution_count": 25,
   "id": "8fef8868-bc64-4d2d-a1f3-5b82ffeb5f32",
   "metadata": {},
   "outputs": [
    {
     "data": {
      "text/html": [
       "<pre style=\"white-space:pre;overflow-x:auto;line-height:normal;font-family:Menlo,'DejaVu Sans Mono',consolas,'Courier New',monospace\">┏━━━━━━━┳━━━━━━━━━━━┳━━━━━━━┓\n",
       "┃<span style=\"font-weight: bold\"> Tâche </span>┃<span style=\"font-weight: bold\"> Prérequis </span>┃<span style=\"font-weight: bold\"> Durée </span>┃\n",
       "┡━━━━━━━╇━━━━━━━━━━━╇━━━━━━━┩\n",
       "│ A     │ B C       │ 1     │\n",
       "│ B     │ E         │ 2     │\n",
       "│ C     │ B         │ 3     │\n",
       "│ D     │ A E       │ 2     │\n",
       "│ E     │           │ 3     │\n",
       "│ F     │ C D       │ 2     │\n",
       "│ G     │ A I J     │ 1     │\n",
       "│ H     │ G J       │ 2     │\n",
       "│ I     │ C         │ 2     │\n",
       "│ J     │ A         │ 4     │\n",
       "└───────┴───────────┴───────┘\n",
       "</pre>\n"
      ],
      "text/plain": [
       "┏━━━━━━━┳━━━━━━━━━━━┳━━━━━━━┓\n",
       "┃\u001b[1m \u001b[0m\u001b[1mTâche\u001b[0m\u001b[1m \u001b[0m┃\u001b[1m \u001b[0m\u001b[1mPrérequis\u001b[0m\u001b[1m \u001b[0m┃\u001b[1m \u001b[0m\u001b[1mDurée\u001b[0m\u001b[1m \u001b[0m┃\n",
       "┡━━━━━━━╇━━━━━━━━━━━╇━━━━━━━┩\n",
       "│ A     │ B C       │ 1     │\n",
       "│ B     │ E         │ 2     │\n",
       "│ C     │ B         │ 3     │\n",
       "│ D     │ A E       │ 2     │\n",
       "│ E     │           │ 3     │\n",
       "│ F     │ C D       │ 2     │\n",
       "│ G     │ A I J     │ 1     │\n",
       "│ H     │ G J       │ 2     │\n",
       "│ I     │ C         │ 2     │\n",
       "│ J     │ A         │ 4     │\n",
       "└───────┴───────────┴───────┘\n"
      ]
     },
     "metadata": {},
     "output_type": "display_data"
    }
   ],
   "source": [
    "print(ordonnancement.cdc_to_table(donnees))"
   ]
  },
  {
   "cell_type": "code",
   "execution_count": null,
   "id": "d24cf6fa-65b6-4ed4-988c-1facf264a6e4",
   "metadata": {},
   "outputs": [],
   "source": []
  }
 ],
 "metadata": {
  "kernelspec": {
   "display_name": "Python 3 (ipykernel)",
   "language": "python",
   "name": "python3"
  },
  "language_info": {
   "codemirror_mode": {
    "name": "ipython",
    "version": 3
   },
   "file_extension": ".py",
   "mimetype": "text/x-python",
   "name": "python",
   "nbconvert_exporter": "python",
   "pygments_lexer": "ipython3",
   "version": "3.9.7"
  }
 },
 "nbformat": 4,
 "nbformat_minor": 5
}

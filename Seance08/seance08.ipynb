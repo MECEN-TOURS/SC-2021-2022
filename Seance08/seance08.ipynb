{
 "cells": [
  {
   "cell_type": "markdown",
   "id": "a4cf18e1-abe7-403d-8137-3a539717f083",
   "metadata": {},
   "source": [
    "# Objectif\n",
    "\n",
    "1. Graphe pondéré\n",
    "2. Distance en deux sommets\n",
    "3. Algorithme de Dijkstra"
   ]
  },
  {
   "cell_type": "markdown",
   "id": "a5b3cf65-d6f8-4203-ac97-d3c7cf6d010b",
   "metadata": {},
   "source": [
    "# Graphe pondéré\n",
    "\n",
    "Un graphe pondéré est la donnée d'un couple $(\\mathcal{S}, \\mathcal{A})$ de sommets et d'arrêtes (i.e. $\\mathcal{A} \\subset \\mathcal{S}^2$), et d'une fonction dite de pondération $p: \\mathcal{S} \\to \\mathbb{R}^+$.\n"
   ]
  },
  {
   "cell_type": "markdown",
   "id": "0d3c8390-0c8c-4e5f-8d20-e1fe1d0de0a4",
   "metadata": {},
   "source": [
    "# Longueur d'un chemin\n",
    "\n",
    "Si $\\mathcal{C}=(S_0,\\ldots,S_n)\\in \\mathcal{S}^{n+1}$ est un chemin du graphe $(\\mathcal{S}, \\mathcal{A})$ sous entendu on a\n",
    "\\begin{equation}\n",
    "\\forall i \\in \\{1,\\ldots,n\\},\\qquad (S_{i-1}, S_i)\\in \\mathcal{A}\n",
    "\\end{equation}\n",
    "sa longueur est la quantité\n",
    "\\begin{equation}\n",
    "L(\\mathcal{C}):= \\sum_{i=1}^n p((S_{i-1}, S_i))\n",
    "\\end{equation}"
   ]
  },
  {
   "cell_type": "markdown",
   "id": "10939803-3af3-494b-a549-8ce0607c5c29",
   "metadata": {},
   "source": [
    "# Distance entre deux sommets\n",
    "\n",
    "La distance entre deux sommets $D$ et $A$ (notée $d(D, A)$) est le minimum de longueur des chemins partant de $D$ et arrivant en $A$. "
   ]
  },
  {
   "cell_type": "markdown",
   "id": "a1df088c-1f9b-4075-b001-c419226a1681",
   "metadata": {},
   "source": [
    "# Exemple 1\n",
    "\n",
    "On définit les sommets $\\mathcal{S}=\\{A,B,C,D,E,F\\}$,  les arrêtes\n",
    "\\begin{equation}\n",
    "\\mathcal{A}=\\{(A, A), (A, B), (A, C), (A, D), (B,C), (C,E), (C, F), (D, C), (D, E), (F,E)\\}\n",
    "\\end{equation}\n",
    "et finalement la pondération par\n",
    "\\begin{equation}\n",
    "\\begin{split}\n",
    "p((A, A)) = 1,\\quad  p((A, B))=2,\\quad p((A, C))=3,\\quad p((A, D))=1,\\quad p((B,C))=1,\\\\ p((C,E))=2,\\quad p((C, F))=1,\\quad p((D, C))=4,\\quad p((D, E))=1,\\quad p((F,E))=1.\n",
    "\\end{split}\n",
    "\\end{equation}\n",
    "\n",
    "**TODO** ajouter figure."
   ]
  },
  {
   "cell_type": "markdown",
   "id": "596cee70-1101-499e-8234-a74a1347c8a9",
   "metadata": {},
   "source": [
    "# Exercice\n",
    "\n",
    "Calculer $d(A, E)$."
   ]
  },
  {
   "cell_type": "markdown",
   "id": "07958602-39cb-4d47-a02c-40412362db4c",
   "metadata": {},
   "source": [
    "# Principe de programmation dynamique\n",
    "\n",
    "Soit $\\mathcal{C}=(S_0,\\ldots,S_n$ un chemin de longueur minimale reliant $S_0$ à $S_n$.\n",
    "Alors quelque soient les indice $k$ et $p$ vérifiant\n",
    "$0\\leq k < p \\leq n$ le chemin $(S_k, S_{k+1}, \\ldots, S_p)$ est minimal parmi tous les chemins reliant $S_k$ à $S_p$."
   ]
  },
  {
   "cell_type": "markdown",
   "id": "f72eddab-73cc-4fbc-82c9-974429589d96",
   "metadata": {},
   "source": [
    "# Cas de l'exemple 1\n",
    "\n",
    "On a les relations\n",
    "\\begin{equation}\n",
    "\\begin{cases}\n",
    "d(A, A) = 0,\\\\\n",
    "d(A, B)=2+ d(A, A),\\\\\n",
    "d(A, C)=\\min(1+ d(A,B), 3 + d(A, A), 4+d(A, D)),\\\\\n",
    "d(A, D)=1+d(A, A),\\\\\n",
    "d(A, E) = \\min(1+d(A, D), 2 + d(A, C), 1+ d(A, F)),\\\\\n",
    "d(A, F)=1+d(A, C),\n",
    "\\end{cases}\n",
    "\\end{equation}"
   ]
  },
  {
   "cell_type": "markdown",
   "id": "0198fdbd-d05a-4d32-b987-c3f68a83249e",
   "metadata": {},
   "source": [
    "En utilisant la valeur de $d(A, A)$ on en déduit\n",
    "\\begin{equation}\n",
    "\\begin{cases}\n",
    "d(A, A) = 0,\\\\\n",
    "d(A, B)=2,\\\\\n",
    "d(A, C)=\\min(1+ d(A,B), 3, 4+d(A, D)),\\\\\n",
    "d(A, D)=1,\\\\\n",
    "d(A, E) = \\min(1+d(A, D), 2 + d(A, C), 1+ d(A, F)),\\\\\n",
    "d(A, F)=1+d(A, C),\n",
    "\\end{cases}\n",
    "\\end{equation}"
   ]
  },
  {
   "cell_type": "markdown",
   "id": "0a22a6aa-8601-402d-ab26-48a77ffbff91",
   "metadata": {},
   "source": [
    "En utilisant les valeurs de $d(A, D)$ et $d(A, B)$ on a \n",
    "\\begin{equation}\n",
    "\\begin{cases}\n",
    "d(A, A) = 0,\\\\\n",
    "d(A, B)=2,\\\\\n",
    "d(A, C)=\\min(3, 3, 5) = 3,\\\\\n",
    "d(A, D)=1,\\\\\n",
    "d(A, E) = \\min(2, 2 + d(A, C), 1+ d(A, F)),\\\\\n",
    "d(A, F)=1+d(A, C),\n",
    "\\end{cases}\n",
    "\\end{equation}"
   ]
  },
  {
   "cell_type": "markdown",
   "id": "fc97ad55-8f8f-4f0d-8840-e2e6a635a720",
   "metadata": {},
   "source": [
    "En reportant la valeur de $d(A, C)$ on en déduit\n",
    "\\begin{equation}\n",
    "\\begin{cases}\n",
    "d(A, A) = 0,\\\\\n",
    "d(A, B)=2,\\\\\n",
    "d(A, C)= 3,\\\\\n",
    "d(A, D)=1,\\\\\n",
    "d(A, E) = \\min(2, 5, 1+ d(A, F)),\\\\\n",
    "d(A, F)=4,\n",
    "\\end{cases}\n",
    "\\end{equation}"
   ]
  },
  {
   "cell_type": "markdown",
   "id": "5abbe405-74c2-4e49-a296-dfb01bade4b9",
   "metadata": {},
   "source": [
    "On conclut maintenant\n",
    "\\begin{equation}\n",
    "\\begin{cases}\n",
    "d(A, A) = 0,\\\\\n",
    "d(A, B)=2,\\\\\n",
    "d(A, C)= 3,\\\\\n",
    "d(A, D)=1,\\\\\n",
    "d(A, E) = \\min(2, 5, 5)=2,\\\\\n",
    "d(A, F)=4,\n",
    "\\end{cases}\n",
    "\\end{equation}"
   ]
  },
  {
   "cell_type": "markdown",
   "id": "f2ce587e-c67f-47a5-8e9c-eba1492e1621",
   "metadata": {},
   "source": [
    "# Exemple 2\n",
    "\n",
    "On prend le graphe non orienté\n",
    "\\begin{equation}\n",
    "\\begin{cases}\n",
    "\\mathcal{S}=\\{A, B, C, D\\}\\\\\n",
    "\\mathcal{A}=\\{(A, B), (B, A), (A, C), (C, A), (B, C), (C, B), (B, D), (D, B), (C, D), (D, C)\\}\\\\\n",
    "p((A, B))=1,\\quad p((B, A))=1,\\quad p((A, C))=3,\\\\\n",
    "p((C, A))=3,\\quad p((B, C))=1, p((C, B))=1,\\\\\n",
    "p((B, D))=2,\\quad p((D, B))=2,\\quad p((C, D))=1,\\quad p((D, C))=1.\n",
    "\\end{cases}\n",
    "\\end{equation}\n",
    "\n",
    "**TODO** ajouter figure"
   ]
  },
  {
   "cell_type": "markdown",
   "id": "82ca1c67-e875-4840-85e1-20e0f77cb3f2",
   "metadata": {},
   "source": [
    "On a les relations\n",
    "\\begin{equation}\n",
    "\\begin{cases}\n",
    "d(A,A)=0,\\\\\n",
    "d(A, B)=\\min(1+d(A,A), 1+d(A,C)), 2+d(A,D)),\\\\\n",
    "d(A, C)=\\min(3+d(A,A), 1+ d(A, B), 1+d(A,D)),\\\\\n",
    "d(A, D)=\\min(2+d(A,B), 1+d(A,C)),\\\\\n",
    "\\end{cases}\n",
    "\\end{equation}"
   ]
  },
  {
   "cell_type": "markdown",
   "id": "548093a1-6034-494d-a2ba-b574642cf606",
   "metadata": {},
   "source": [
    "En utilisant la valeur de $d(A,A)$\n",
    "\\begin{equation}\n",
    "\\begin{cases}\n",
    "d(A,A)=0,\\\\\n",
    "d(A, B)=\\min(1, 1+d(A,C)), 2+d(A,D)),\\\\\n",
    "d(A, C)=\\min(3, 1+ d(A, B), 1+d(A,D)),\\\\\n",
    "d(A, D)=\\min(2+d(A,B), 1+d(A,C)),\\\\\n",
    "\\end{cases}\n",
    "\\end{equation}"
   ]
  },
  {
   "cell_type": "markdown",
   "id": "1a9a4cbc-dc87-4c3b-a70c-b42d190bffe8",
   "metadata": {},
   "source": [
    "On va utiliser maintenant le fait que la pondération étant positive, toutes les distances sont positives. \n",
    "\n",
    "Ainsi $1+d(A,C) \\geq 1$ et $2+ d(A, D) \\geq 2$ donc\n",
    "\\begin{equation}\n",
    "\\begin{cases}\n",
    "d(A,A)=0,\\\\\n",
    "d(A, B)=\\min(1, 1+d(A,C)), 2+d(A,D))=1,\\\\\n",
    "d(A, C)=\\min(3, 1+ d(A, B), 1+d(A,D)),\\\\\n",
    "d(A, D)=\\min(2+d(A,B), 1+d(A,C)),\\\\\n",
    "\\end{cases}\n",
    "\\end{equation}"
   ]
  },
  {
   "cell_type": "markdown",
   "id": "202fe619-84c4-4a79-93d7-22c4588871d7",
   "metadata": {},
   "source": [
    "En utilisant la valeur de $d(A, B)$ on a\n",
    "\\begin{equation}\n",
    "\\begin{cases}\n",
    "d(A,A)=0,\\\\\n",
    "d(A, B)=1,\\\\\n",
    "d(A, C)=\\min(3, 2, 1+d(A,D)),\\\\\n",
    "d(A, D)=\\min(3, 1+d(A,C)),\\\\\n",
    "\\end{cases}\n",
    "\\end{equation}"
   ]
  },
  {
   "cell_type": "markdown",
   "id": "e5f4b326-5389-4150-99d7-ee54d97e2c04",
   "metadata": {},
   "source": [
    "Comme $d(A, D)\\geq 0$ on en déduit $d(A, C)\\geq \\min(3, 2, 1)=1$.\n",
    "\n",
    "De même on a $d(A, D)\\geq \\min(3, 1)=1$."
   ]
  },
  {
   "cell_type": "markdown",
   "id": "c9888e83-1140-4a8f-98ff-669f9b52c508",
   "metadata": {},
   "source": [
    "Donc $1+d(A, D) \\geq 2$ et $d(A, C)=2$ donc $d(A, D)=3$."
   ]
  },
  {
   "cell_type": "markdown",
   "id": "f99f421c-6c10-45de-9d40-f900249819be",
   "metadata": {},
   "source": [
    "# Représentation alternative des graphes par voisinage"
   ]
  },
  {
   "cell_type": "code",
   "execution_count": 1,
   "id": "3132491c-99f4-488f-85e1-29a06bb911a2",
   "metadata": {},
   "outputs": [],
   "source": [
    "# pour Exemple 1 sans pondération\n",
    "ex1 = {\n",
    "    \"A\": [\"A\", \"B\", \"C\", \"D\"],\n",
    "    \"B\": [\"C\"],\n",
    "    \"C\": [\"E\", \"F\"],\n",
    "    \"D\": [\"C\", \"E\"],\n",
    "    \"E\": [],\n",
    "    \"F\": [\"E\"],\n",
    "}"
   ]
  },
  {
   "cell_type": "code",
   "execution_count": 2,
   "id": "c5ee7c77-18de-467c-ae6f-af18956200ca",
   "metadata": {},
   "outputs": [],
   "source": [
    "# pour Exemple 2 sans pondération\n",
    "ex2 = {\n",
    "    \"a\": [\"b\", \"c\"],\n",
    "    \"b\": [\"a\", \"c\", \"d\"],\n",
    "    \"c\": [\"a\", \"b\", \"d\"],\n",
    "    \"d\": [\"b\", \"c\"],\n",
    "}"
   ]
  },
  {
   "cell_type": "markdown",
   "id": "772b9183-fc86-4151-bb64-e21020f2d691",
   "metadata": {},
   "source": [
    "# Exercice\n",
    "\n",
    "Coder des fonctions permettant de passer d'une représentation à une autre en python."
   ]
  },
  {
   "cell_type": "code",
   "execution_count": 3,
   "id": "a3cc9e65-2bc3-4a08-b621-0698ae006153",
   "metadata": {},
   "outputs": [],
   "source": [
    "from typing import TypeVar"
   ]
  },
  {
   "cell_type": "code",
   "execution_count": 6,
   "id": "8aefe570-745c-415a-8b33-d725eb38e88b",
   "metadata": {},
   "outputs": [],
   "source": [
    "# type pour sommets et arretes\n",
    "S = TypeVar(\"S\")\n",
    "A = tuple[S, S]"
   ]
  },
  {
   "cell_type": "code",
   "execution_count": 11,
   "id": "09d6f24d-4e55-46ab-86b4-1ea45367fe87",
   "metadata": {},
   "outputs": [],
   "source": [
    "def dict_to_tuple(graphe: dict[S, list[S]]) -> tuple[list[S], list[A]]:\n",
    "    sommets = list()\n",
    "    arretes = list()\n",
    "    for sommet in graphe:\n",
    "        sommets.append(sommet)\n",
    "        for voisin in graphe[sommet]:\n",
    "            arretes.append((sommet, voisin))\n",
    "    return sommets, arretes"
   ]
  },
  {
   "cell_type": "code",
   "execution_count": 12,
   "id": "53da4327-49e1-462a-a47b-374abeb05c0a",
   "metadata": {},
   "outputs": [
    {
     "data": {
      "text/plain": [
       "(['A', 'B', 'C', 'D', 'E', 'F'],\n",
       " [('A', 'A'),\n",
       "  ('A', 'B'),\n",
       "  ('A', 'C'),\n",
       "  ('A', 'D'),\n",
       "  ('B', 'C'),\n",
       "  ('C', 'E'),\n",
       "  ('C', 'F'),\n",
       "  ('D', 'C'),\n",
       "  ('D', 'E'),\n",
       "  ('F', 'E')])"
      ]
     },
     "execution_count": 12,
     "metadata": {},
     "output_type": "execute_result"
    }
   ],
   "source": [
    "dict_to_tuple(graphe=ex1)"
   ]
  },
  {
   "cell_type": "code",
   "execution_count": 13,
   "id": "eceb50e1-208a-461b-a3aa-b94421f96929",
   "metadata": {},
   "outputs": [
    {
     "data": {
      "text/plain": [
       "(['a', 'b', 'c', 'd'],\n",
       " [('a', 'b'),\n",
       "  ('a', 'c'),\n",
       "  ('b', 'a'),\n",
       "  ('b', 'c'),\n",
       "  ('b', 'd'),\n",
       "  ('c', 'a'),\n",
       "  ('c', 'b'),\n",
       "  ('c', 'd'),\n",
       "  ('d', 'b'),\n",
       "  ('d', 'c')])"
      ]
     },
     "execution_count": 13,
     "metadata": {},
     "output_type": "execute_result"
    }
   ],
   "source": [
    "dict_to_tuple(graphe=ex2)"
   ]
  },
  {
   "cell_type": "code",
   "execution_count": 9,
   "id": "1d0e9355-e2ed-4be5-8ea0-80bc6f2a74d8",
   "metadata": {},
   "outputs": [],
   "source": [
    "def tuple_to_dict(sommets: list[S], arretes: list[A]) -> dict[S, list[S]]:\n",
    "    resultat = dict()\n",
    "    for sommet in sommets:\n",
    "        resultat[sommet] = []\n",
    "    for depart, arrivee in arretes:\n",
    "        resultat[depart].append(arrivee)\n",
    "    return resultat"
   ]
  },
  {
   "cell_type": "code",
   "execution_count": 10,
   "id": "c7c68a86-4907-4d51-9a67-b6bfd3098a41",
   "metadata": {},
   "outputs": [
    {
     "data": {
      "text/plain": [
       "{'a': ['b', 'c'], 'b': ['d'], 'c': ['d'], 'd': []}"
      ]
     },
     "execution_count": 10,
     "metadata": {},
     "output_type": "execute_result"
    }
   ],
   "source": [
    "tuple_to_dict(\n",
    "    sommets=[\"a\", \"b\", \"c\", \"d\"], \n",
    "    arretes=[(\"a\", \"b\"), (\"a\", \"c\"), (\"b\", \"d\"), (\"c\", \"d\")]\n",
    ")"
   ]
  }
 ],
 "metadata": {
  "kernelspec": {
   "display_name": "Python 3 (ipykernel)",
   "language": "python",
   "name": "python3"
  },
  "language_info": {
   "codemirror_mode": {
    "name": "ipython",
    "version": 3
   },
   "file_extension": ".py",
   "mimetype": "text/x-python",
   "name": "python",
   "nbconvert_exporter": "python",
   "pygments_lexer": "ipython3",
   "version": "3.9.7"
  }
 },
 "nbformat": 4,
 "nbformat_minor": 5
}

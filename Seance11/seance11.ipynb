{
 "cells": [
  {
   "cell_type": "markdown",
   "id": "67a74cda-ea2f-423d-be43-cdb84abc8488",
   "metadata": {},
   "source": [
    "# Objectif\n",
    "\n",
    "Problème de flot maximal."
   ]
  },
  {
   "cell_type": "markdown",
   "id": "d4911850-8bd1-48c3-8bc9-5c79c40b1825",
   "metadata": {},
   "source": [
    "On se donne $(N, A)$ un graphe orienté muni de\n",
    "1. $c:A \\to \\mathbb{R}^+$ la capacité des arrêtes \n",
    "2. $S$ (source) et $P$ (puit) deux sommets particuliers de $N$\n",
    "\n",
    "On définit les flots admissibles sur le graphe comme les fonctions $f:A \\to \\mathbb{R}^+$ vérifiant:\n",
    "\n",
    "\\begin{gather}\n",
    "\\forall a \\in A,\\quad 0\\leq f(a) \\leq c(a),\\\\\n",
    "\\forall E \\in N\\setminus\\{S, P\\},\\quad \\sum_{(F, E)\\in A} f(F, E) = \\sum_{(E, G)\\in A} f(E, G)\n",
    "\\end{gather}"
   ]
  },
  {
   "cell_type": "markdown",
   "id": "87287cc6-872d-4e94-8f9f-ae8d6376b711",
   "metadata": {},
   "source": [
    "Parmi les flots admissibles on cherche ceux qui maximisent la quantité sortant de $S$\n",
    "\n",
    "\\begin{equation}\n",
    "\\mathcal{F}(f):=\\sum_{(S, G)\\in A} f(S, G)\n",
    "\\end{equation}\n"
   ]
  },
  {
   "cell_type": "markdown",
   "id": "81bb8fa2-c430-4d7b-a169-ba9e88746261",
   "metadata": {},
   "source": [
    "De manière équivalente on a\n",
    "\n",
    "\\begin{equation}\n",
    "\\mathcal{F}(f)=\\sum_{(F,P)\\in A} f(F, P)\n",
    "\\end{equation}"
   ]
  },
  {
   "cell_type": "markdown",
   "id": "8f57e326-f271-4807-af28-79e377940324",
   "metadata": {},
   "source": [
    "# Exercice\n",
    "\n",
    "1. Coder une classe représentant un problème de flot maximal.\n",
    "2. Coder une fonction qui permet de passer d'un objet de type flot maximal au tableaux représentant le programme linéaire tel que `scipy.optimize.linprog` l'attende.\n",
    "3. Coder une fonction résolvant le problème de flot maximal."
   ]
  }
 ],
 "metadata": {
  "kernelspec": {
   "display_name": "Python 3 (ipykernel)",
   "language": "python",
   "name": "python3"
  },
  "language_info": {
   "codemirror_mode": {
    "name": "ipython",
    "version": 3
   },
   "file_extension": ".py",
   "mimetype": "text/x-python",
   "name": "python",
   "nbconvert_exporter": "python",
   "pygments_lexer": "ipython3",
   "version": "3.9.7"
  }
 },
 "nbformat": 4,
 "nbformat_minor": 5
}

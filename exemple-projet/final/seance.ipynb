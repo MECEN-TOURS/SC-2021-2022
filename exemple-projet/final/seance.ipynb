{
 "cells": [
  {
   "cell_type": "code",
   "execution_count": 1,
   "id": "e37c0c53-8777-4d85-8979-b5667a8ac514",
   "metadata": {},
   "outputs": [],
   "source": [
    "from itertools import product"
   ]
  },
  {
   "cell_type": "code",
   "execution_count": 3,
   "id": "3fb5a302-a838-415a-a375-2e1a6449e745",
   "metadata": {},
   "outputs": [
    {
     "name": "stdout",
     "output_type": "stream",
     "text": [
      "('A', 1)\n",
      "('A', 2)\n",
      "('B', 1)\n",
      "('B', 2)\n"
     ]
    }
   ],
   "source": [
    "for choix in product([\"A\", \"B\"], (1, 2)):\n",
    "    print(choix)"
   ]
  },
  {
   "cell_type": "code",
   "execution_count": 4,
   "id": "98314b79-b139-4ffc-9524-73b77e807956",
   "metadata": {},
   "outputs": [],
   "source": [
    "ensembles = [[\"A\", \"B\"], (1, 2)]"
   ]
  },
  {
   "cell_type": "code",
   "execution_count": 5,
   "id": "ea568e31-5d08-4572-8584-11ca6f07b961",
   "metadata": {},
   "outputs": [
    {
     "name": "stdout",
     "output_type": "stream",
     "text": [
      "('A', 1)\n",
      "('A', 2)\n",
      "('B', 1)\n",
      "('B', 2)\n"
     ]
    }
   ],
   "source": [
    "for choix in product(*ensembles):\n",
    "    print(choix)"
   ]
  },
  {
   "cell_type": "code",
   "execution_count": 1,
   "id": "c2f5c2fb-b0f3-4646-8a7d-027cabf7563f",
   "metadata": {},
   "outputs": [],
   "source": [
    "from serde import serde"
   ]
  },
  {
   "cell_type": "code",
   "execution_count": 2,
   "id": "ec67cbd6-11e5-4191-9462-fafa1e04009c",
   "metadata": {},
   "outputs": [],
   "source": [
    "@serde\n",
    "class Test:\n",
    "    nom: str\n",
    "    prenom: str\n",
    "    numero: int"
   ]
  },
  {
   "cell_type": "code",
   "execution_count": 3,
   "id": "36d8830f-363e-4c28-ae0a-1923be437045",
   "metadata": {},
   "outputs": [],
   "source": [
    "essai = Test(nom=\"Perrollaz\", prenom=\"Vincent\", numero=1234)"
   ]
  },
  {
   "cell_type": "code",
   "execution_count": 4,
   "id": "577cd270-04df-4de5-9e90-e7fde94adba1",
   "metadata": {},
   "outputs": [
    {
     "data": {
      "text/plain": [
       "Test(nom='Perrollaz', prenom='Vincent', numero=1234)"
      ]
     },
     "execution_count": 4,
     "metadata": {},
     "output_type": "execute_result"
    }
   ],
   "source": [
    "essai"
   ]
  },
  {
   "cell_type": "code",
   "execution_count": 5,
   "id": "3ea79305-fc24-41cc-9e69-437d43e396d3",
   "metadata": {},
   "outputs": [],
   "source": [
    "from serde.json import from_json, to_json"
   ]
  },
  {
   "cell_type": "code",
   "execution_count": 7,
   "id": "a01c6dd4-706b-49ea-8a07-dc2d21aff3bd",
   "metadata": {},
   "outputs": [
    {
     "name": "stdout",
     "output_type": "stream",
     "text": [
      "{\"nom\": \"Perrollaz\", \"prenom\": \"Vincent\", \"numero\": 1234}\n"
     ]
    }
   ],
   "source": [
    "code = to_json(essai)\n",
    "print(code)"
   ]
  },
  {
   "cell_type": "code",
   "execution_count": 8,
   "id": "82be354a-c0fe-4296-b393-fcae93341324",
   "metadata": {},
   "outputs": [
    {
     "name": "stdout",
     "output_type": "stream",
     "text": [
      "Test(nom='Perrollaz', prenom='Vincent', numero=1234)\n"
     ]
    }
   ],
   "source": [
    "decode = from_json(Test, code)\n",
    "print(decode)"
   ]
  },
  {
   "cell_type": "markdown",
   "id": "d58ecc79-db0b-4a4a-81a3-bb2c47eeb71d",
   "metadata": {},
   "source": [
    "# Exercice\n",
    "\n",
    "1. Reprendre l'application pour avoir une sortie plus lisible.\n",
    "2. Donner une option permettant de fournir la solution dans un fichier.\n",
    "3. Donner la possibilité d'utiliser d'autres format que json (par exemple yaml)"
   ]
  },
  {
   "cell_type": "code",
   "execution_count": null,
   "id": "ff1b9a2e-f218-4499-82bf-e3eff50a5f0c",
   "metadata": {},
   "outputs": [],
   "source": []
  }
 ],
 "metadata": {
  "kernelspec": {
   "display_name": "Python 3 (ipykernel)",
   "language": "python",
   "name": "python3"
  },
  "language_info": {
   "codemirror_mode": {
    "name": "ipython",
    "version": 3
   },
   "file_extension": ".py",
   "mimetype": "text/x-python",
   "name": "python",
   "nbconvert_exporter": "python",
   "pygments_lexer": "ipython3",
   "version": "3.9.7"
  }
 },
 "nbformat": 4,
 "nbformat_minor": 5
}

{
 "cells": [
  {
   "cell_type": "markdown",
   "id": "2a09e9c7-20d9-42f5-9c9c-5abdb527a87e",
   "metadata": {},
   "source": [
    "# Objectifs\n",
    "\n",
    "1. Enrichir lib_graphe pour traiter les graphes pondérés.\n",
    "2. Implémenter lib_distance.\n",
    "3. Transformer lib_distance pour déterminer aussi des chemins de longueur minimale."
   ]
  },
  {
   "cell_type": "code",
   "execution_count": 4,
   "id": "fba01fa0-1f97-48b4-99f2-0325f57a8262",
   "metadata": {},
   "outputs": [],
   "source": [
    "class Test:\n",
    "    def __init__(self):\n",
    "        pass\n",
    "    \n",
    "    def __getitem__(self, att):\n",
    "        return att"
   ]
  },
  {
   "cell_type": "code",
   "execution_count": 5,
   "id": "f760a4f2-cc6d-4e5c-b28e-7343457052fc",
   "metadata": {},
   "outputs": [],
   "source": [
    "t = Test()"
   ]
  },
  {
   "cell_type": "code",
   "execution_count": 6,
   "id": "c18a0e13-a185-43e0-97ec-b5fd53775634",
   "metadata": {},
   "outputs": [
    {
     "data": {
      "text/plain": [
       "5"
      ]
     },
     "execution_count": 6,
     "metadata": {},
     "output_type": "execute_result"
    }
   ],
   "source": [
    "t[5] # -> Test.__getitem__(t, 5)"
   ]
  },
  {
   "cell_type": "code",
   "execution_count": null,
   "id": "4f48f47d-c44a-4332-b41c-09c76b33760f",
   "metadata": {},
   "outputs": [],
   "source": []
  }
 ],
 "metadata": {
  "kernelspec": {
   "display_name": "Python 3 (ipykernel)",
   "language": "python",
   "name": "python3"
  },
  "language_info": {
   "codemirror_mode": {
    "name": "ipython",
    "version": 3
   },
   "file_extension": ".py",
   "mimetype": "text/x-python",
   "name": "python",
   "nbconvert_exporter": "python",
   "pygments_lexer": "ipython3",
   "version": "3.9.7"
  }
 },
 "nbformat": 4,
 "nbformat_minor": 5
}

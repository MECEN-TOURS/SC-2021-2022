{
 "cells": [
  {
   "cell_type": "markdown",
   "id": "1edde0fe-e4c3-453a-b344-813cd0a0b028",
   "metadata": {},
   "source": [
    "# Objectif\n",
    "\n",
    "Coder un solveur de sudoku.\n",
    "\n",
    "On commencera par des 4x4 avant d'ajuster le code pour les 9x9 puis 16x16.\n",
    "\n",
    "On appliquera les mêmes techniques et principes que pour le problème de traversée de rivière."
   ]
  },
  {
   "cell_type": "markdown",
   "id": "5ad34b4d-b9f0-4bf3-9ecf-ab0666bbd53f",
   "metadata": {},
   "source": [
    "# Modélisation\n",
    "\n",
    "- On doit avoir une structure de donnée qui représente une grille partiellement remplie.\n",
    "- Une grille (même partiellement remplie) peut être invalide si une ligne/colonne ou sous carré a une répétition.\n",
    "- On a une transition entre deux grilles si la seconde a exactement une case remplie de plus.\n",
    "- On a donc un graphe.\n",
    "- On cherche à passer d'une grille de départ donnée à n'importe quelle grille valide sans case vide.\n"
   ]
  },
  {
   "cell_type": "markdown",
   "id": "8cfff960-ad3e-4e80-8b8f-34596bd9b928",
   "metadata": {},
   "source": [
    "# Topo sur les itérateurs et itérables"
   ]
  },
  {
   "cell_type": "code",
   "execution_count": 1,
   "id": "6814b5bf-2395-435e-9927-9fae99223fa0",
   "metadata": {},
   "outputs": [
    {
     "name": "stdout",
     "output_type": "stream",
     "text": [
      "1\n",
      "2\n",
      "3\n"
     ]
    }
   ],
   "source": [
    "for i in [1, 2, 3]:\n",
    "    print(i)"
   ]
  },
  {
   "cell_type": "code",
   "execution_count": 2,
   "id": "c1d8dedb-772a-4833-a10b-f60a8d788448",
   "metadata": {},
   "outputs": [
    {
     "name": "stdout",
     "output_type": "stream",
     "text": [
      "1\n",
      "2\n",
      "3\n"
     ]
    }
   ],
   "source": [
    "for i in (1, 2, 3):\n",
    "    print(i)"
   ]
  },
  {
   "cell_type": "code",
   "execution_count": 3,
   "id": "199c5ed8-9157-488a-be33-33c0e2abe1d3",
   "metadata": {},
   "outputs": [
    {
     "name": "stdout",
     "output_type": "stream",
     "text": [
      "1\n",
      "2\n",
      "3\n"
     ]
    }
   ],
   "source": [
    "for i in range(1, 4):\n",
    "    print(i)"
   ]
  },
  {
   "cell_type": "code",
   "execution_count": 4,
   "id": "13ffc6a6-e29a-43e6-9e99-b159bebe586f",
   "metadata": {},
   "outputs": [
    {
     "data": {
      "text/plain": [
       "range"
      ]
     },
     "execution_count": 4,
     "metadata": {},
     "output_type": "execute_result"
    }
   ],
   "source": [
    "type(range(1, 4))"
   ]
  },
  {
   "cell_type": "markdown",
   "id": "212ad58c-f2d8-4a47-9eb8-9ca2d5c20dc6",
   "metadata": {},
   "source": [
    "- Un itérable est un objet que l'on peut passer à la fonction `iter` pour produire un itérateur.\n",
    "- Un itérateur est un objet que l'on peut passer à une boucle `for`. C'est à dire pour lequel on peut appeler la fonction `next`.\n"
   ]
  },
  {
   "cell_type": "code",
   "execution_count": 5,
   "id": "1f784bb2-3061-4aa5-b5fa-2fa008bf4ae0",
   "metadata": {},
   "outputs": [],
   "source": [
    "r = range(1, 4)"
   ]
  },
  {
   "cell_type": "code",
   "execution_count": 7,
   "id": "50904368-36c2-43d9-b6c7-9a9cb9ddf667",
   "metadata": {},
   "outputs": [],
   "source": [
    "ri = iter(r)"
   ]
  },
  {
   "cell_type": "code",
   "execution_count": 8,
   "id": "29a590b7-9389-4879-adf6-badd4ad56b19",
   "metadata": {},
   "outputs": [
    {
     "data": {
      "text/plain": [
       "1"
      ]
     },
     "execution_count": 8,
     "metadata": {},
     "output_type": "execute_result"
    }
   ],
   "source": [
    "next(ri)"
   ]
  },
  {
   "cell_type": "code",
   "execution_count": 9,
   "id": "44ec3c4b-28de-45e1-984a-2dd3bff6ed48",
   "metadata": {},
   "outputs": [
    {
     "data": {
      "text/plain": [
       "2"
      ]
     },
     "execution_count": 9,
     "metadata": {},
     "output_type": "execute_result"
    }
   ],
   "source": [
    "next(ri)"
   ]
  },
  {
   "cell_type": "code",
   "execution_count": 10,
   "id": "e79cca9a-0e27-42e0-8a89-a3578fec7aad",
   "metadata": {},
   "outputs": [
    {
     "data": {
      "text/plain": [
       "3"
      ]
     },
     "execution_count": 10,
     "metadata": {},
     "output_type": "execute_result"
    }
   ],
   "source": [
    "next(ri)"
   ]
  },
  {
   "cell_type": "code",
   "execution_count": 11,
   "id": "1f578cbf-e5db-4515-940e-df1c2c964e8b",
   "metadata": {},
   "outputs": [
    {
     "ename": "StopIteration",
     "evalue": "",
     "output_type": "error",
     "traceback": [
      "\u001b[1;31m---------------------------------------------------------------------------\u001b[0m",
      "\u001b[1;31mStopIteration\u001b[0m                             Traceback (most recent call last)",
      "\u001b[1;32mC:\\Users\\PERROL~1\\AppData\\Local\\Temp/ipykernel_6584/412018502.py\u001b[0m in \u001b[0;36m<module>\u001b[1;34m\u001b[0m\n\u001b[1;32m----> 1\u001b[1;33m \u001b[0mnext\u001b[0m\u001b[1;33m(\u001b[0m\u001b[0mri\u001b[0m\u001b[1;33m)\u001b[0m\u001b[1;33m\u001b[0m\u001b[1;33m\u001b[0m\u001b[0m\n\u001b[0m",
      "\u001b[1;31mStopIteration\u001b[0m: "
     ]
    }
   ],
   "source": [
    "next(ri)"
   ]
  },
  {
   "cell_type": "markdown",
   "id": "445ba6e0-63ac-45be-9dfd-07d9f225ea13",
   "metadata": {},
   "source": [
    "Au final le code\n",
    "\n",
    "```python\n",
    "for x in objet:\n",
    "    action(x)\n",
    "```\n",
    "\n",
    "revient à la procédure\n",
    "\n",
    "```python\n",
    "it = iter(objet)\n",
    "while True:\n",
    "    try:\n",
    "        x = next(it)\n",
    "    except StopIteration:\n",
    "        break\n",
    "    action(x)\n",
    "```"
   ]
  },
  {
   "cell_type": "markdown",
   "id": "b4deaa9f-1d2e-41c2-93dc-7b690daf6e25",
   "metadata": {},
   "source": [
    "Contrairement à un conteneur in itérateur produit les valeurs au fur et à mesure.\n",
    "Cela permet de minimiser l'occupation mémoire et la vitesse d'exécution des boucles."
   ]
  },
  {
   "cell_type": "markdown",
   "id": "05f1b993-acbb-4d14-891f-f7630006f6a8",
   "metadata": {},
   "source": [
    "**ATTENTION**\n",
    "\n",
    "- Un itérateur une fois épuisé est inutilisable. \n",
    "- Un iterable par contre produit à la demande un itérateur *tout  neuf*."
   ]
  },
  {
   "cell_type": "markdown",
   "id": "4194ffe9-e787-43ed-ade9-e2d304bcb7d1",
   "metadata": {},
   "source": [
    "Pour les objets sur mesure crée via une instruction `class`.\n",
    "- La fonction `iter` appelle la méthode interne `__iter__`\n",
    "- la fonction `next` appelle la méthode interne `__next__`"
   ]
  },
  {
   "cell_type": "markdown",
   "id": "07c516ca-3cf8-4124-8492-b1f8bfa871d6",
   "metadata": {},
   "source": [
    "On peut produire des itérables avec une syntaxe proche de celles des fonctions."
   ]
  },
  {
   "cell_type": "code",
   "execution_count": 12,
   "id": "0cc83909-054f-4a88-b98d-54be7f254b29",
   "metadata": {},
   "outputs": [],
   "source": [
    "def carres(i, j):\n",
    "    indice = i\n",
    "    while indice < j:\n",
    "        yield indice ** 2\n",
    "        indice = indice + 1"
   ]
  },
  {
   "cell_type": "code",
   "execution_count": 13,
   "id": "261d23ca-ef60-4d46-8fb2-835cbe71b395",
   "metadata": {},
   "outputs": [
    {
     "name": "stdout",
     "output_type": "stream",
     "text": [
      "100\n",
      "121\n",
      "144\n",
      "169\n",
      "196\n",
      "225\n",
      "256\n",
      "289\n",
      "324\n",
      "361\n"
     ]
    }
   ],
   "source": [
    "for c in carres(10, 20):\n",
    "    print(c)"
   ]
  },
  {
   "cell_type": "code",
   "execution_count": 15,
   "id": "6c1c78d1-fed9-4020-8944-2d0a96339305",
   "metadata": {},
   "outputs": [],
   "source": [
    "it = iter(carres(0, 5))"
   ]
  },
  {
   "cell_type": "code",
   "execution_count": 16,
   "id": "e8daf868-76a0-4363-8790-80d4686b3058",
   "metadata": {},
   "outputs": [
    {
     "data": {
      "text/plain": [
       "0"
      ]
     },
     "execution_count": 16,
     "metadata": {},
     "output_type": "execute_result"
    }
   ],
   "source": [
    "next(it)"
   ]
  },
  {
   "cell_type": "code",
   "execution_count": 17,
   "id": "30c86fed-8679-4f62-a78e-6129bef8e6a6",
   "metadata": {},
   "outputs": [
    {
     "data": {
      "text/plain": [
       "1"
      ]
     },
     "execution_count": 17,
     "metadata": {},
     "output_type": "execute_result"
    }
   ],
   "source": [
    "next(it)"
   ]
  },
  {
   "cell_type": "code",
   "execution_count": 18,
   "id": "13251397-8a78-429a-ad99-be04e9da0dd3",
   "metadata": {},
   "outputs": [
    {
     "data": {
      "text/plain": [
       "4"
      ]
     },
     "execution_count": 18,
     "metadata": {},
     "output_type": "execute_result"
    }
   ],
   "source": [
    "next(it)"
   ]
  },
  {
   "cell_type": "code",
   "execution_count": 19,
   "id": "78efa030-6824-4ef9-84bf-ecb580b01655",
   "metadata": {},
   "outputs": [
    {
     "data": {
      "text/plain": [
       "9"
      ]
     },
     "execution_count": 19,
     "metadata": {},
     "output_type": "execute_result"
    }
   ],
   "source": [
    "next(it)"
   ]
  },
  {
   "cell_type": "code",
   "execution_count": 20,
   "id": "16b127a9-a940-4328-9fc4-7ebab5abb82e",
   "metadata": {},
   "outputs": [
    {
     "data": {
      "text/plain": [
       "16"
      ]
     },
     "execution_count": 20,
     "metadata": {},
     "output_type": "execute_result"
    }
   ],
   "source": [
    "next(it)"
   ]
  },
  {
   "cell_type": "code",
   "execution_count": 21,
   "id": "55268baa-e663-4ada-aeab-1edb9642d555",
   "metadata": {},
   "outputs": [
    {
     "ename": "StopIteration",
     "evalue": "",
     "output_type": "error",
     "traceback": [
      "\u001b[1;31m---------------------------------------------------------------------------\u001b[0m",
      "\u001b[1;31mStopIteration\u001b[0m                             Traceback (most recent call last)",
      "\u001b[1;32mC:\\Users\\PERROL~1\\AppData\\Local\\Temp/ipykernel_6584/600241529.py\u001b[0m in \u001b[0;36m<module>\u001b[1;34m\u001b[0m\n\u001b[1;32m----> 1\u001b[1;33m \u001b[0mnext\u001b[0m\u001b[1;33m(\u001b[0m\u001b[0mit\u001b[0m\u001b[1;33m)\u001b[0m\u001b[1;33m\u001b[0m\u001b[1;33m\u001b[0m\u001b[0m\n\u001b[0m",
      "\u001b[1;31mStopIteration\u001b[0m: "
     ]
    }
   ],
   "source": [
    "next(it)"
   ]
  },
  {
   "cell_type": "markdown",
   "id": "13fd8346-5dd9-4869-b3fa-31afb866ccd0",
   "metadata": {
    "tags": []
   },
   "source": [
    "# Utilisation de la librairie"
   ]
  },
  {
   "cell_type": "code",
   "execution_count": 24,
   "id": "6ee4b4aa-9de6-408e-82d4-d9b362bd4344",
   "metadata": {},
   "outputs": [],
   "source": [
    "import lib"
   ]
  },
  {
   "cell_type": "code",
   "execution_count": 25,
   "id": "5a9fb6c2-8f70-4c3a-baaa-0cbd985fa9a7",
   "metadata": {},
   "outputs": [
    {
     "name": "stdout",
     "output_type": "stream",
     "text": [
      "\n",
      "-----------------\n",
      "| 1 | _ | 3 | _ |\n",
      "-----------------\n",
      "| _ | 2 | _ | 4 |\n",
      "-----------------\n",
      "| _ | 3 | _ | 1 |\n",
      "-----------------\n",
      "| 4 | _ | 2 | _ |\n",
      "-----------------\n",
      "\n"
     ]
    }
   ],
   "source": [
    "ma_grille = lib.Grille(\n",
    "    cases=[\n",
    "        1,    None, 3,    None,\n",
    "        None, 2,    None, 4,\n",
    "        None, 3,    None, 1,\n",
    "        4,    None, 2,    None\n",
    "    ]\n",
    ")\n",
    "print(ma_grille)"
   ]
  },
  {
   "cell_type": "code",
   "execution_count": 26,
   "id": "301c71f5-803c-49fd-9623-94987397c9c6",
   "metadata": {},
   "outputs": [],
   "source": [
    "resultats = lib.calcule_solutions(ma_grille)"
   ]
  },
  {
   "cell_type": "code",
   "execution_count": 27,
   "id": "ab44967f-252c-4c0c-b8dc-db7ca2531537",
   "metadata": {},
   "outputs": [
    {
     "name": "stdout",
     "output_type": "stream",
     "text": [
      "\n",
      "-----------------\n",
      "| 1 | 4 | 3 | 2 |\n",
      "-----------------\n",
      "| 3 | 2 | 1 | 4 |\n",
      "-----------------\n",
      "| 2 | 3 | 4 | 1 |\n",
      "-----------------\n",
      "| 4 | 1 | 2 | 3 |\n",
      "-----------------\n",
      "\n"
     ]
    }
   ],
   "source": [
    "for resultat in resultats:\n",
    "    print(resultat)"
   ]
  },
  {
   "cell_type": "markdown",
   "id": "c00c82cd-fc64-43fb-ab70-358ac987d35a",
   "metadata": {},
   "source": [
    "# Fin de la séance\n",
    "\n",
    "1. Documentation de la librairie.\n",
    "2. Porter le code pour les Sudoku 9x9\n",
    "3. Rajouter un log à `calcule_solutions` pour voir quelles sont les grilles explorées."
   ]
  }
 ],
 "metadata": {
  "kernelspec": {
   "display_name": "Python 3 (ipykernel)",
   "language": "python",
   "name": "python3"
  },
  "language_info": {
   "codemirror_mode": {
    "name": "ipython",
    "version": 3
   },
   "file_extension": ".py",
   "mimetype": "text/x-python",
   "name": "python",
   "nbconvert_exporter": "python",
   "pygments_lexer": "ipython3",
   "version": "3.9.7"
  }
 },
 "nbformat": 4,
 "nbformat_minor": 5
}
